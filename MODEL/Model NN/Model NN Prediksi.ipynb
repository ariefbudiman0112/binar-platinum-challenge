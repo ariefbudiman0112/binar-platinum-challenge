{
 "cells": [
  {
   "cell_type": "code",
   "execution_count": 9,
   "id": "dd8f34f2",
   "metadata": {},
   "outputs": [],
   "source": [
    "import pickle\n",
    "import re"
   ]
  },
  {
   "cell_type": "code",
   "execution_count": 17,
   "id": "ecd62752",
   "metadata": {},
   "outputs": [],
   "source": [
    "original_text =  '''Kamu Suka kamu'''"
   ]
  },
  {
   "cell_type": "code",
   "execution_count": 18,
   "id": "99f54e04",
   "metadata": {},
   "outputs": [],
   "source": [
    "def cleansing(sent):\n",
    "    # Mengubah kata menjadi huruf kecil semua dengan menggunakan fungsi lower()\n",
    "    string = sent.lower()\n",
    "    # Menghapus emoticon dan tanda baca menggunakan \"RegEx\" dengan script di bawah\n",
    "    string = re.sub(r'[^a-zA-Z0-9]', ' ', string)\n",
    "    return string"
   ]
  },
  {
   "cell_type": "code",
   "execution_count": 19,
   "id": "e56c7cc0",
   "metadata": {},
   "outputs": [
    {
     "data": {
      "text/plain": [
       "'kamu suka kamu'"
      ]
     },
     "execution_count": 19,
     "metadata": {},
     "output_type": "execute_result"
    }
   ],
   "source": [
    "cleansing(original_text)"
   ]
  },
  {
   "cell_type": "code",
   "execution_count": 12,
   "id": "ec3e0980",
   "metadata": {},
   "outputs": [],
   "source": [
    "count_vect = pickle.load(open(\"feature_New.sav\", \"rb\"))\n",
    "model_NN = pickle.load(open(\"model_NN.sav\", \"rb\"))"
   ]
  },
  {
   "cell_type": "code",
   "execution_count": 13,
   "id": "b55425e3",
   "metadata": {},
   "outputs": [],
   "source": [
    "text = count_vect.transform([cleansing(original_text)])"
   ]
  },
  {
   "cell_type": "code",
   "execution_count": 14,
   "id": "bbfdfbde",
   "metadata": {},
   "outputs": [
    {
     "name": "stdout",
     "output_type": "stream",
     "text": [
      "Sentiment:\n",
      "\n",
      "negative\n"
     ]
    }
   ],
   "source": [
    "result = model_NN.predict(text)[0]\n",
    "print(\"Sentiment:\")\n",
    "print()\n",
    "print(result)"
   ]
  },
  {
   "cell_type": "code",
   "execution_count": null,
   "id": "bbd9973f",
   "metadata": {},
   "outputs": [],
   "source": []
  }
 ],
 "metadata": {
  "kernelspec": {
   "display_name": "Python 3 (ipykernel)",
   "language": "python",
   "name": "python3"
  },
  "language_info": {
   "codemirror_mode": {
    "name": "ipython",
    "version": 3
   },
   "file_extension": ".py",
   "mimetype": "text/x-python",
   "name": "python",
   "nbconvert_exporter": "python",
   "pygments_lexer": "ipython3",
   "version": "3.11.1"
  }
 },
 "nbformat": 4,
 "nbformat_minor": 5
}
