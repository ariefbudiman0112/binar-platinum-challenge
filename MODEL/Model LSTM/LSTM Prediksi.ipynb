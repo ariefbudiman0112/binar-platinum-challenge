{
 "cells": [
  {
   "cell_type": "code",
   "execution_count": 1,
   "id": "31186c73",
   "metadata": {},
   "outputs": [],
   "source": [
    "from tensorflow.keras.models import load_model\n",
    "from tensorflow.keras.preprocessing.sequence import pad_sequences\n",
    "import re\n",
    "import pickle"
   ]
  },
  {
   "cell_type": "code",
   "execution_count": 3,
   "id": "2c4c3c42",
   "metadata": {},
   "outputs": [],
   "source": [
    "tokenizer = pickle.load(open(\"feature_New_lstm.sav\", \"rb\"))\n",
    "loaded_model = pickle.load(open(\"model_lstm.sav\", \"rb\"))"
   ]
  },
  {
   "cell_type": "code",
   "execution_count": 4,
   "id": "6e93f9aa",
   "metadata": {},
   "outputs": [],
   "source": [
    "def pred_sentiment(string):    \n",
    "    string = re.sub(r'[^a-zA-Z0-9. ]', '', string)\n",
    "    string = string.lower()\n",
    "    text = [string]\n",
    "\n",
    "    sekuens_x = tokenizer.texts_to_sequences(text)\n",
    "    padded_x = pad_sequences(sekuens_x)\n",
    "\n",
    "    classes = loaded_model.predict(padded_x, batch_size=10)\n",
    "\n",
    "    return classes[0]"
   ]
  },
  {
   "cell_type": "code",
   "execution_count": 5,
   "id": "b12e4d01",
   "metadata": {},
   "outputs": [],
   "source": [
    "def pred(classes):\n",
    "    if classes[0] == classes.max():\n",
    "        print('negative')\n",
    "    if classes[1] == classes.max():\n",
    "        print('neutral')\n",
    "    if classes[2] == classes.max():\n",
    "        print('positive')"
   ]
  },
  {
   "cell_type": "code",
   "execution_count": 6,
   "id": "092ed839",
   "metadata": {},
   "outputs": [
    {
     "name": "stdout",
     "output_type": "stream",
     "text": [
      "1/1 [==============================] - 1s 691ms/step\n",
      "positive\n"
     ]
    }
   ],
   "source": [
    "string = '''aku suka kamu suka aku'''\n",
    "classes = pred_sentiment(string)\n",
    "pred(classes)"
   ]
  },
  {
   "cell_type": "code",
   "execution_count": null,
   "id": "c115a57c",
   "metadata": {},
   "outputs": [],
   "source": []
  }
 ],
 "metadata": {
  "kernelspec": {
   "display_name": "Python 3 (ipykernel)",
   "language": "python",
   "name": "python3"
  },
  "language_info": {
   "codemirror_mode": {
    "name": "ipython",
    "version": 3
   },
   "file_extension": ".py",
   "mimetype": "text/x-python",
   "name": "python",
   "nbconvert_exporter": "python",
   "pygments_lexer": "ipython3",
   "version": "3.9.9"
  }
 },
 "nbformat": 4,
 "nbformat_minor": 5
}
